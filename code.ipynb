{
 "cells": [
  {
   "cell_type": "code",
   "execution_count": 23,
   "id": "optional-parker",
   "metadata": {},
   "outputs": [
    {
     "name": "stdout",
     "output_type": "stream",
     "text": [
      "10 0.841 0.02586503431275512\n",
      "50 0.8799999999999999 0.026076809620810618\n",
      "100 0.9049999999999999 0.01284523257866514\n",
      "500 0.924 0.021999999999999978\n",
      "1000 0.9200000000000002 0.01999999999999998\n",
      "5000 0.921 0.015779733838059473\n"
     ]
    },
    {
     "data": {
      "image/png": "[encoded data removed]",
      "text/plain": [
       "<Figure size 432x288 with 1 Axes>"
      ]
     },
     "metadata": {
      "needs_background": "light"
     },
     "output_type": "display_data"
    }
   ],
   "source": [
    "## using a custom function\n",
    "import numpy as np\n",
    "import pandas as pd\n",
    "import matplotlib.pyplot as plt\n",
    "%matplotlib inline\n",
    "from sklearn.datasets import make_classification\n",
    "from sklearn.model_selection import cross_val_score\n",
    "from sklearn.model_selection import KFold\n",
    "from sklearn.ensemble import GradientBoostingClassifier\n",
    "\n",
    "def get_dataset():\n",
    "    x,y=make_classification(n_samples=1000, n_features=20, n_informative=15, n_redundant=5, random_state=7)\n",
    "    return x,y\n",
    "def get_models():\n",
    "    models=dict()\n",
    "    n_trees=[10,50,100,500,1000,5000]\n",
    "    for n in n_trees:\n",
    "        models[str(n)]=GradientBoostingClassifier(n_estimators=n)\n",
    "    return models\n",
    "\n",
    "def eval_model(model,x,y):\n",
    "    cv=KFold(n_splits=10,random_state=1,shuffle=True)\n",
    "    scores=cross_val_score(model,x,y,scoring='accuracy',cv=cv)\n",
    "    return scores\n",
    "\n",
    "x,y=get_dataset()\n",
    "models=get_models()\n",
    "results,names=list(),list()\n",
    "for name,model in models.items():\n",
    "    scores=eval_model(model,x,y)\n",
    "    results.append(scores)\n",
    "    names.append(name)\n",
    "    print(name,mean(scores),std(scores))\n",
    "    \n",
    "plt.boxplot(results,labels=names,showmeans=True)\n",
    "plt.show()\n",
    "    \n"
   ]
  },
  {
   "cell_type": "markdown",
   "id": "boxed-toner",
   "metadata": {},
   "source": [
    "working with learning rate (hyperparameter tuning),turns out 0.1 learning rate is the most suitable"
   ]
  },
  {
   "cell_type": "code",
   "execution_count": 24,
   "id": "lesser-belief",
   "metadata": {},
   "outputs": [
    {
     "name": "stdout",
     "output_type": "stream",
     "text": [
      "0.0001 0.669 0.1482868841131946\n",
      "0.001 0.7869999999999999 0.032878564445547195\n",
      "0.01 0.842 0.029933259094191523\n",
      "0.1 0.9039999999999999 0.013564659966250548\n",
      "1.0 0.905 0.01284523257866514\n"
     ]
    },
    {
     "data": {
      "image/png": "[encoded data removed]",
      "text/plain": [
       "<Figure size 432x288 with 1 Axes>"
      ]
     },
     "metadata": {
      "needs_background": "light"
     },
     "output_type": "display_data"
    }
   ],
   "source": [
    "## using a custom function\n",
    "import numpy as np\n",
    "import pandas as pd\n",
    "import matplotlib.pyplot as plt\n",
    "%matplotlib inline\n",
    "from sklearn.datasets import make_classification\n",
    "from sklearn.model_selection import cross_val_score\n",
    "from sklearn.model_selection import KFold\n",
    "from sklearn.ensemble import GradientBoostingClassifier\n",
    "\n",
    "def get_dataset():\n",
    "    x,y=make_classification(n_samples=1000, n_features=20, n_informative=15, n_redundant=5, random_state=7)\n",
    "    return x,y\n",
    "def get_models():\n",
    "    models=dict()\n",
    "    for i in [0.0001, 0.001, 0.01, 0.1, 1.0]:\n",
    "        models[i]=GradientBoostingClassifier(learning_rate=i)\n",
    "    return models\n",
    "\n",
    "def eval_model(model,x,y):\n",
    "    cv=KFold(n_splits=10,random_state=1,shuffle=True)\n",
    "    scores=cross_val_score(model,x,y,scoring='accuracy',cv=cv)\n",
    "    return scores\n",
    "\n",
    "x,y=get_dataset()\n",
    "models=get_models()\n",
    "results,names=list(),list()\n",
    "for name,model in models.items():\n",
    "    scores=eval_model(model,x,y)\n",
    "    results.append(scores)\n",
    "    names.append(name)\n",
    "    print(name,mean(scores),std(scores))\n",
    "    \n",
    "plt.boxplot(results,labels=names,showmeans=True)\n",
    "plt.show()\n",
    "    \n"
   ]
  },
  {
   "cell_type": "code",
   "execution_count": null,
   "id": "hungry-murder",
   "metadata": {},
   "outputs": [],
   "source": []
  }
 ],
 "metadata": {
  "kernelspec": {
   "display_name": "Python 3",
   "language": "python",
   "name": "python3"
  },
  "language_info": {
   "codemirror_mode": {
    "name": "ipython",
    "version": 3
   },
   "file_extension": ".py",
   "mimetype": "text/x-python",
   "name": "python",
   "nbconvert_exporter": "python",
   "pygments_lexer": "ipython3",
   "version": "3.9.2"
  }
 },
 "nbformat": 4,
 "nbformat_minor": 5
}
